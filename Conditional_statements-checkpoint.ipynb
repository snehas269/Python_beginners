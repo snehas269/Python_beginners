{
 "cells": [
  {
   "cell_type": "markdown",
   "id": "e0c5a6ee-dd87-4645-b03c-82bc6e132d4c",
   "metadata": {},
   "source": [
    "# Conditional Statements"
   ]
  },
  {
   "cell_type": "code",
   "execution_count": 2,
   "id": "8106bca2-5207-4fbd-ac7c-ae5d30d7844a",
   "metadata": {},
   "outputs": [
    {
     "name": "stdout",
     "output_type": "stream",
     "text": [
      "Data Science\n"
     ]
    }
   ],
   "source": [
    "if True:                 #indentation is always 4 space\n",
    "    print('Data Science')"
   ]
  },
  {
   "cell_type": "code",
   "execution_count": 4,
   "id": "ff5bb591-e3d9-46d7-a5db-61f2f46c21c5",
   "metadata": {},
   "outputs": [
    {
     "name": "stdout",
     "output_type": "stream",
     "text": [
      "Bye for now\n"
     ]
    }
   ],
   "source": [
    "if False:\n",
    "    print('Data Science')\n",
    "print('Bye for now')"
   ]
  },
  {
   "cell_type": "code",
   "execution_count": 6,
   "id": "48d24626-eff1-45c6-9399-240d971f6dca",
   "metadata": {},
   "outputs": [
    {
     "name": "stdout",
     "output_type": "stream",
     "text": [
      "Data Science\n",
      "Bye for now\n"
     ]
    }
   ],
   "source": [
    "if True:\n",
    "    print('Data Science')\n",
    "print('Bye for now')"
   ]
  },
  {
   "cell_type": "code",
   "execution_count": 14,
   "id": "2a5981f3-5da9-4586-8c74-ad712b8c4d55",
   "metadata": {},
   "outputs": [
    {
     "name": "stdout",
     "output_type": "stream",
     "text": [
      "Number is even\n"
     ]
    }
   ],
   "source": [
    "#Code-1 : number is odd or even\n",
    "\n",
    "x=4\n",
    "r=x%2\n",
    "\n",
    "if r==0:\n",
    "    print('Number is even')"
   ]
  },
  {
   "cell_type": "code",
   "execution_count": 18,
   "id": "fc013bea-df0a-4fe4-abaa-0b1bff921ec1",
   "metadata": {},
   "outputs": [
    {
     "name": "stdout",
     "output_type": "stream",
     "text": [
      "Number id Odd\n"
     ]
    }
   ],
   "source": [
    "x=5\n",
    "r=x%2\n",
    "\n",
    "if r==0:\n",
    "    print('Number is even')\n",
    "print('Number id Odd')"
   ]
  },
  {
   "cell_type": "code",
   "execution_count": 20,
   "id": "f876c72c-7f9a-44fe-8cb9-25b1612933cb",
   "metadata": {},
   "outputs": [
    {
     "name": "stdout",
     "output_type": "stream",
     "text": [
      "Number is Even\n",
      "Number is Odd\n"
     ]
    }
   ],
   "source": [
    "x=6\n",
    "r=x%2\n",
    "\n",
    "if r==0:\n",
    "    print('Number is Even')\n",
    "print('Number is Odd')"
   ]
  },
  {
   "cell_type": "code",
   "execution_count": 22,
   "id": "4ef8e079-9ae9-4110-8451-512fa54de7b0",
   "metadata": {},
   "outputs": [
    {
     "name": "stdout",
     "output_type": "stream",
     "text": [
      "Odd number\n"
     ]
    }
   ],
   "source": [
    "x=13\n",
    "r=x%2\n",
    "\n",
    "if r==0:\n",
    "    print('Even number')\n",
    "\n",
    "if r!=0:\n",
    "    print('Odd number')"
   ]
  },
  {
   "cell_type": "code",
   "execution_count": 24,
   "id": "d87ea338-d491-466a-9c9a-85832eab494b",
   "metadata": {},
   "outputs": [
    {
     "name": "stdout",
     "output_type": "stream",
     "text": [
      "Odd number\n"
     ]
    }
   ],
   "source": [
    "x=19\n",
    "r=x%2\n",
    "\n",
    "if r==0:\n",
    "    print('Even number')\n",
    "\n",
    "if r==1:\n",
    "    print('Odd number')"
   ]
  },
  {
   "cell_type": "code",
   "execution_count": 34,
   "id": "8625eff8-4cdf-4627-937f-4a49ece2f8f2",
   "metadata": {},
   "outputs": [
    {
     "name": "stdout",
     "output_type": "stream",
     "text": [
      "Odd number\n"
     ]
    }
   ],
   "source": [
    "x=3\n",
    "r=x%2\n",
    "\n",
    "if r==0:\n",
    "    print('Even number')\n",
    "    if x>5:\n",
    "        print('Greater number')\n",
    "else:\n",
    "    print('Odd number')"
   ]
  },
  {
   "cell_type": "code",
   "execution_count": 36,
   "id": "ff585892-4d87-403a-a934-c84becd7945d",
   "metadata": {},
   "outputs": [
    {
     "name": "stdout",
     "output_type": "stream",
     "text": [
      "Even number\n",
      "Greater number\n"
     ]
    }
   ],
   "source": [
    "x=8\n",
    "r=x%2\n",
    "\n",
    "if r==0:\n",
    "    print('Even number')\n",
    "    if x>5:\n",
    "        print('Greater number')\n",
    "else:\n",
    "    print('Odd number')"
   ]
  },
  {
   "cell_type": "code",
   "execution_count": 38,
   "id": "967cddac-f274-426a-9983-9096425935b0",
   "metadata": {},
   "outputs": [
    {
     "name": "stdout",
     "output_type": "stream",
     "text": [
      "Even number\n"
     ]
    }
   ],
   "source": [
    "x=4\n",
    "r=x%2\n",
    "\n",
    "if r==0:\n",
    "    print('Even number')\n",
    "    if x>5:\n",
    "        print('Greater number')\n",
    "else:\n",
    "    print('Odd number')"
   ]
  },
  {
   "cell_type": "code",
   "execution_count": 40,
   "id": "8f7b6c23-71e8-48a4-8a9f-807f507412f1",
   "metadata": {},
   "outputs": [
    {
     "name": "stdout",
     "output_type": "stream",
     "text": [
      "Even number\n",
      "Smaller number\n"
     ]
    }
   ],
   "source": [
    "x=4\n",
    "r=x%2\n",
    "\n",
    "if r==0:\n",
    "    print('Even number')\n",
    "    if x>5:\n",
    "        print('Greater number')\n",
    "    else:\n",
    "        print('Smaller number')\n",
    "\n",
    "else:\n",
    "    print('Odd number')"
   ]
  },
  {
   "cell_type": "raw",
   "id": "ad156bd5-fdbb-43fe-b78a-24d5b22d85c6",
   "metadata": {},
   "source": [
    "# if-elif-else"
   ]
  },
  {
   "cell_type": "code",
   "execution_count": 44,
   "id": "87dfa6ed-4b87-4fc8-90b9-adda62389f76",
   "metadata": {},
   "outputs": [
    {
     "name": "stdout",
     "output_type": "stream",
     "text": [
      "Number not found\n"
     ]
    }
   ],
   "source": [
    "x=9\n",
    "\n",
    "if x==1:\n",
    "    print('One')\n",
    "elif x==2:\n",
    "    print('Two')\n",
    "elif x==3:\n",
    "    print('Three')\n",
    "elif x==4:\n",
    "    print('Four')\n",
    "else:\n",
    "    print('Number not found')"
   ]
  },
  {
   "cell_type": "markdown",
   "id": "61723da5-3070-4e1a-b761-bf05de29ca37",
   "metadata": {},
   "source": [
    "# Loops"
   ]
  },
  {
   "cell_type": "code",
   "execution_count": 47,
   "id": "523be8cf-0d90-4c8d-a286-12aba6f6be50",
   "metadata": {},
   "outputs": [
    {
     "name": "stdout",
     "output_type": "stream",
     "text": [
      "Data Science\n",
      "Data Science\n",
      "Data Science\n",
      "Data Science\n",
      "Data Science\n"
     ]
    }
   ],
   "source": [
    "i=1                         #initializing\n",
    "while i<=5:                 #condition\n",
    "    print('Data Science')\n",
    "    i=i+1                   #increment"
   ]
  },
  {
   "cell_type": "code",
   "execution_count": 49,
   "id": "0692ca2d-b4d0-4821-abda-4fc33033b102",
   "metadata": {},
   "outputs": [
    {
     "name": "stdout",
     "output_type": "stream",
     "text": [
      "Data Science :  1\n",
      "Data Science :  2\n",
      "Data Science :  3\n",
      "Data Science :  4\n",
      "Data Science :  5\n"
     ]
    }
   ],
   "source": [
    "i=1\n",
    "while i<=5:\n",
    "    print('Data Science : ',i)\n",
    "    i=i+1"
   ]
  },
  {
   "cell_type": "code",
   "execution_count": 51,
   "id": "68a3a923-9324-4b02-adfb-0482bfc51d29",
   "metadata": {},
   "outputs": [
    {
     "name": "stdout",
     "output_type": "stream",
     "text": [
      "Data Science :  5\n",
      "Data Science :  4\n",
      "Data Science :  3\n",
      "Data Science :  2\n",
      "Data Science :  1\n"
     ]
    }
   ],
   "source": [
    "i=5\n",
    "while i>=1:\n",
    "    print('Data Science : ',i)\n",
    "    i=i-1"
   ]
  },
  {
   "cell_type": "code",
   "execution_count": 53,
   "id": "330f2481-a94a-43b4-b93c-5bd40d011cf1",
   "metadata": {},
   "outputs": [
    {
     "name": "stdout",
     "output_type": "stream",
     "text": [
      "Data Science\n",
      "Technology\n",
      "Technology\n",
      "Technology\n",
      "Technology\n",
      "\n",
      "Data Science\n",
      "Technology\n",
      "Technology\n",
      "Technology\n",
      "Technology\n",
      "\n",
      "Data Science\n",
      "Technology\n",
      "Technology\n",
      "Technology\n",
      "Technology\n",
      "\n",
      "Data Science\n",
      "Technology\n",
      "Technology\n",
      "Technology\n",
      "Technology\n",
      "\n",
      "Data Science\n",
      "Technology\n",
      "Technology\n",
      "Technology\n",
      "Technology\n",
      "\n"
     ]
    }
   ],
   "source": [
    "i=1\n",
    "while i<=5:\n",
    "    print('Data Science')\n",
    "    j=1\n",
    "    while j<=4:\n",
    "        print('Technology')\n",
    "        j=j+1\n",
    "\n",
    "    i=i+1\n",
    "    print()"
   ]
  },
  {
   "cell_type": "code",
   "execution_count": 59,
   "id": "8519275b-8fe6-4407-8d80-0c73eb132791",
   "metadata": {},
   "outputs": [
    {
     "name": "stdout",
     "output_type": "stream",
     "text": [
      "Data Science Technology Technology Technology Technology \n",
      "Data Science Technology Technology Technology Technology \n",
      "Data Science Technology Technology Technology Technology \n",
      "Data Science Technology Technology Technology Technology \n",
      "Data Science Technology Technology Technology Technology \n"
     ]
    }
   ],
   "source": [
    "i=1\n",
    "while i<=5:\n",
    "    print('Data Science',end=' ')\n",
    "    j=1\n",
    "    while j<=4:\n",
    "        print('Technology',end=' ')\n",
    "        j=j+1\n",
    "\n",
    "    i=i+1\n",
    "    print()"
   ]
  },
  {
   "cell_type": "code",
   "execution_count": 3,
   "id": "8894c959-f2b3-4038-93e4-6cd22a049c92",
   "metadata": {},
   "outputs": [
    {
     "name": "stdout",
     "output_type": "stream",
     "text": [
      "0 1 2 \n",
      "0 2 4 \n"
     ]
    }
   ],
   "source": [
    "i=1\n",
    "\n",
    "while i<=2:\n",
    "    j=0\n",
    "    while j<=2:\n",
    "        print(i*j,end=' ')\n",
    "        j+=1\n",
    "    print()\n",
    "    i+=1"
   ]
  },
  {
   "cell_type": "code",
   "execution_count": 5,
   "id": "2e48f004-3420-42cf-aabc-c4eec198ad5f",
   "metadata": {},
   "outputs": [
    {
     "name": "stdout",
     "output_type": "stream",
     "text": [
      "0 1 2 3 \n",
      "0 2 4 6 \n",
      "0 3 6 9 \n",
      "0 4 8 12 \n"
     ]
    }
   ],
   "source": [
    "i=1\n",
    "while i<=4:\n",
    "    j=0\n",
    "    while j<=3:\n",
    "        print(i*j,end=' ')\n",
    "        j+=1\n",
    "    print()\n",
    "    i+=1"
   ]
  },
  {
   "cell_type": "code",
   "execution_count": 7,
   "id": "252abcfd-4952-4355-9a70-1c1b421b853d",
   "metadata": {},
   "outputs": [
    {
     "name": "stdout",
     "output_type": "stream",
     "text": [
      "n\n",
      "i\n",
      "t\n"
     ]
    }
   ],
   "source": [
    "name='nit'\n",
    "for i in name:\n",
    "    print(i)"
   ]
  },
  {
   "cell_type": "code",
   "execution_count": 9,
   "id": "27050860-68b6-44e1-96ad-bdd7def807a8",
   "metadata": {},
   "outputs": [
    {
     "name": "stdout",
     "output_type": "stream",
     "text": [
      "1\n",
      "3.5\n",
      "hello\n"
     ]
    }
   ],
   "source": [
    "name1= [1,3.5,'hello']\n",
    "for i in name1:\n",
    "    print(i)\n"
   ]
  },
  {
   "cell_type": "code",
   "execution_count": 11,
   "id": "ab39fac2-677c-42bb-8f07-a4c185b2433a",
   "metadata": {},
   "outputs": [
    {
     "name": "stdout",
     "output_type": "stream",
     "text": [
      "2\n",
      "3\n",
      "7.8\n",
      "hi\n"
     ]
    }
   ],
   "source": [
    "for i in [2,3,7.8,'hi']:\n",
    "    print(i)"
   ]
  },
  {
   "cell_type": "code",
   "execution_count": 13,
   "id": "a15f17a4-a76b-4669-8f59-2f7616ff7795",
   "metadata": {},
   "outputs": [
    {
     "data": {
      "text/plain": [
       "range(0, 5)"
      ]
     },
     "execution_count": 13,
     "metadata": {},
     "output_type": "execute_result"
    }
   ],
   "source": [
    "range(5)"
   ]
  },
  {
   "cell_type": "code",
   "execution_count": 15,
   "id": "6c0b4575-5fdc-4f3f-aa14-72f7cddd636e",
   "metadata": {},
   "outputs": [
    {
     "name": "stdout",
     "output_type": "stream",
     "text": [
      "0\n",
      "1\n",
      "2\n",
      "3\n",
      "4\n"
     ]
    }
   ],
   "source": [
    "for i in range(5):\n",
    "    print(i)"
   ]
  },
  {
   "cell_type": "code",
   "execution_count": 17,
   "id": "91e0221b-d8ff-412e-9b86-b35e3bdd45bf",
   "metadata": {},
   "outputs": [
    {
     "name": "stdout",
     "output_type": "stream",
     "text": [
      "2\n",
      "3\n",
      "4\n"
     ]
    }
   ],
   "source": [
    "for i in range(2,5):\n",
    "    print(i)"
   ]
  },
  {
   "cell_type": "code",
   "execution_count": 19,
   "id": "96b86f27-d9ea-436c-9c75-20fe743c4ad7",
   "metadata": {},
   "outputs": [
    {
     "name": "stdout",
     "output_type": "stream",
     "text": [
      "1\n",
      "4\n",
      "7\n"
     ]
    }
   ],
   "source": [
    "for i in range(1,10,3):\n",
    "    print(i)"
   ]
  },
  {
   "cell_type": "code",
   "execution_count": 21,
   "id": "62af8463-2e1f-424b-96ec-71a6a108b8f8",
   "metadata": {},
   "outputs": [
    {
     "name": "stdout",
     "output_type": "stream",
     "text": [
      "1\n",
      "2\n",
      "3\n",
      "4\n",
      "5\n",
      "6\n",
      "7\n",
      "8\n",
      "9\n",
      "10\n",
      "11\n",
      "12\n",
      "13\n",
      "14\n",
      "15\n",
      "16\n",
      "17\n",
      "18\n",
      "19\n",
      "20\n"
     ]
    }
   ],
   "source": [
    "for i in range(1,21):\n",
    "    print (i)"
   ]
  },
  {
   "cell_type": "code",
   "execution_count": 23,
   "id": "9de97b33-2847-42b8-af57-025d4abb5a49",
   "metadata": {},
   "outputs": [
    {
     "name": "stdout",
     "output_type": "stream",
     "text": [
      "5\n",
      "10\n",
      "15\n",
      "20\n",
      "25\n",
      "30\n",
      "35\n",
      "40\n",
      "45\n",
      "50\n"
     ]
    }
   ],
   "source": [
    "for i in range(1,51):   #nos divisible by 5\n",
    "    if i%5==0:\n",
    "        print(i)"
   ]
  },
  {
   "cell_type": "code",
   "execution_count": 25,
   "id": "3826da50-d75b-4c9a-9f1c-8d7c2db5285a",
   "metadata": {},
   "outputs": [
    {
     "name": "stdout",
     "output_type": "stream",
     "text": [
      "1\n",
      "2\n",
      "3\n",
      "4\n",
      "6\n",
      "7\n",
      "8\n",
      "9\n",
      "11\n",
      "12\n",
      "13\n",
      "14\n",
      "16\n",
      "17\n",
      "18\n",
      "19\n",
      "21\n",
      "22\n",
      "23\n",
      "24\n",
      "26\n",
      "27\n",
      "28\n",
      "29\n",
      "31\n",
      "32\n",
      "33\n",
      "34\n",
      "36\n",
      "37\n",
      "38\n",
      "39\n",
      "41\n",
      "42\n",
      "43\n",
      "44\n",
      "46\n",
      "47\n",
      "48\n",
      "49\n"
     ]
    }
   ],
   "source": [
    "for i in range(1,51):  #nos. not divisible by 5\n",
    "    if i%5!=0:\n",
    "        print(i)"
   ]
  },
  {
   "cell_type": "markdown",
   "id": "e8a6f342-0da0-4f4c-bb62-4c534046bd9e",
   "metadata": {},
   "source": [
    "# break\n",
    "- end the loop\n",
    "# continue\n",
    "- skips 1 step/iteration during loop\n"
   ]
  },
  {
   "cell_type": "code",
   "execution_count": 49,
   "id": "73b2deba-0805-4c44-88bf-1f7b129cf20e",
   "metadata": {},
   "outputs": [
    {
     "name": "stdin",
     "output_type": "stream",
     "text": [
      "How many Chocolates u want:? 6\n"
     ]
    },
    {
     "name": "stdout",
     "output_type": "stream",
     "text": [
      "chocolate\n",
      "chocolate\n",
      "chocolate\n",
      "chocolate\n",
      "chocolate\n",
      "chocolate\n"
     ]
    }
   ],
   "source": [
    "x=int(input('How many Chocolates u want:?'))\n",
    "i=1\n",
    "while i<=x:\n",
    "    print('chocolate')\n",
    "    i+=1"
   ]
  },
  {
   "cell_type": "code",
   "execution_count": 30,
   "id": "f4a51643-580c-44c4-a256-86888302611e",
   "metadata": {},
   "outputs": [
    {
     "name": "stdin",
     "output_type": "stream",
     "text": [
      "How many chocolates u want:? 7\n"
     ]
    },
    {
     "name": "stdout",
     "output_type": "stream",
     "text": [
      "chocolate\n",
      "chocolate\n",
      "chocolate\n",
      "chocolate\n",
      "chocolate\n",
      "chocolate\n",
      "chocolate\n"
     ]
    }
   ],
   "source": [
    "avlbl=5\n",
    "x=int(input('How many chocolates u want:?'))\n",
    "i=1\n",
    "while i<=x:\n",
    "    print('chocolate')\n",
    "    i+=1"
   ]
  },
  {
   "cell_type": "code",
   "execution_count": 32,
   "id": "ce88a5d5-c6ec-4918-8218-cb968de14db9",
   "metadata": {},
   "outputs": [
    {
     "name": "stdin",
     "output_type": "stream",
     "text": [
      "How many chocolates u want:? 6\n"
     ]
    },
    {
     "name": "stdout",
     "output_type": "stream",
     "text": [
      "chocolate\n",
      "chocolate\n",
      "chocolate\n",
      "chocolate\n",
      "chocolate\n",
      "Bye for now\n"
     ]
    }
   ],
   "source": [
    "avlbl= 5   #machine has only 5 chocolates\n",
    "x=int(input('How many chocolates u want:?'))\n",
    "i=1\n",
    "while i<=x:\n",
    "    if i>avlbl:\n",
    "        break\n",
    "    print('chocolate')\n",
    "    i+=1\n",
    "\n",
    "print('Bye for now')"
   ]
  },
  {
   "cell_type": "code",
   "execution_count": 34,
   "id": "acc5589b-2533-4ae3-b944-854e891e1fa2",
   "metadata": {},
   "outputs": [
    {
     "name": "stdin",
     "output_type": "stream",
     "text": [
      "How many chocolates u want:? 6\n"
     ]
    },
    {
     "name": "stdout",
     "output_type": "stream",
     "text": [
      "chocolate\n",
      "chocolate\n",
      "chocolate\n",
      "chocolate\n",
      "chocolate\n",
      "out of stock\n",
      "bye for now\n"
     ]
    }
   ],
   "source": [
    "avlbl=5\n",
    "x=int(input('How many chocolates u want:?'))\n",
    "i=1\n",
    "while i<=x:\n",
    "    if i>avlbl:\n",
    "        print('out of stock')\n",
    "        break\n",
    "    print('chocolate')\n",
    "    i+=1\n",
    "\n",
    "print('bye for now')"
   ]
  },
  {
   "cell_type": "code",
   "execution_count": 38,
   "id": "efcab1ee-9c7e-4418-872f-7d5bd4d28a6b",
   "metadata": {},
   "outputs": [
    {
     "name": "stdout",
     "output_type": "stream",
     "text": [
      "1\n",
      "2\n",
      "3\n",
      "4\n",
      "5\n",
      "6\n",
      "7\n",
      "8\n",
      "9\n",
      "10\n"
     ]
    }
   ],
   "source": [
    "for i in range(1,11):\n",
    "    print (i)"
   ]
  },
  {
   "cell_type": "code",
   "execution_count": 40,
   "id": "83b77c07-b204-47ad-b21c-0665f7a68bbf",
   "metadata": {},
   "outputs": [
    {
     "name": "stdout",
     "output_type": "stream",
     "text": [
      "1\n",
      "2\n",
      "3\n",
      "4\n",
      "5\n"
     ]
    }
   ],
   "source": [
    "#i don't want 11, i want only 5 no. for range 1 to 10\n",
    "for i in range(1,11):\n",
    "    if i==6:\n",
    "        break\n",
    "    print(i)"
   ]
  },
  {
   "cell_type": "code",
   "execution_count": 44,
   "id": "e886c69c-9237-4743-a683-83ae47b26122",
   "metadata": {},
   "outputs": [
    {
     "name": "stdout",
     "output_type": "stream",
     "text": [
      "1\n",
      "2\n",
      "4\n",
      "5\n",
      "6\n",
      "7\n",
      "8\n",
      "9\n",
      "10\n"
     ]
    }
   ],
   "source": [
    "for i in range(1,11):\n",
    "    if i==3:\n",
    "        continue       #skips 1 step in loop\n",
    "    print(i)"
   ]
  },
  {
   "cell_type": "code",
   "execution_count": 46,
   "id": "b33d8e3e-2b97-4736-ad4a-a7274013131c",
   "metadata": {},
   "outputs": [
    {
     "name": "stdout",
     "output_type": "stream",
     "text": [
      "Hello :  1\n",
      "Hello :  2\n",
      "Hello :  3\n",
      "Hello :  4\n",
      "Hello :  5\n",
      "Hello :  7\n",
      "Hello :  8\n",
      "Hello :  9\n",
      "Hello :  10\n"
     ]
    }
   ],
   "source": [
    "for i in range(1,11):\n",
    "    if i==6:\n",
    "        continue          \n",
    "    print('Hello : ',i)"
   ]
  },
  {
   "cell_type": "markdown",
   "id": "e0e6a62c-5efd-4897-9b1c-e8796f8d2853",
   "metadata": {},
   "source": [
    "# pass\n",
    "- pass the code"
   ]
  },
  {
   "cell_type": "code",
   "execution_count": 54,
   "id": "dd157396-1d5e-42a8-ba9a-8a7c448a4089",
   "metadata": {},
   "outputs": [
    {
     "ename": "SyntaxError",
     "evalue": "incomplete input (1334445784.py, line 1)",
     "output_type": "error",
     "traceback": [
      "\u001b[1;36m  Cell \u001b[1;32mIn[54], line 1\u001b[1;36m\u001b[0m\n\u001b[1;33m    for i in range(1,11):\u001b[0m\n\u001b[1;37m                         ^\u001b[0m\n\u001b[1;31mSyntaxError\u001b[0m\u001b[1;31m:\u001b[0m incomplete input\n"
     ]
    }
   ],
   "source": [
    "for i in range(1,11):"
   ]
  },
  {
   "cell_type": "code",
   "execution_count": 58,
   "id": "17103d0a-3ead-479f-badf-3859b3ac8a0d",
   "metadata": {},
   "outputs": [],
   "source": [
    "for i in range(1,11):\n",
    "    pass"
   ]
  },
  {
   "cell_type": "code",
   "execution_count": 62,
   "id": "2504335d-b54c-419a-a558-10e95e055728",
   "metadata": {},
   "outputs": [
    {
     "name": "stdout",
     "output_type": "stream",
     "text": [
      "3\n",
      "6\n",
      "9\n",
      "12\n",
      "15\n",
      "18\n",
      "21\n",
      "24\n",
      "27\n",
      "30\n",
      "33\n",
      "36\n",
      "39\n",
      "42\n",
      "45\n",
      "48\n",
      "end\n"
     ]
    }
   ],
   "source": [
    "for i in range(1,51):\n",
    "    if i%3==0:\n",
    "        print(i)\n",
    "print('end')"
   ]
  },
  {
   "cell_type": "code",
   "execution_count": 64,
   "id": "ff4e809b-9130-47b2-a451-659952f64f98",
   "metadata": {},
   "outputs": [
    {
     "name": "stdout",
     "output_type": "stream",
     "text": [
      "1\n",
      "2\n",
      "4\n",
      "5\n",
      "7\n",
      "8\n",
      "10\n",
      "11\n",
      "13\n",
      "14\n",
      "16\n",
      "17\n",
      "19\n",
      "20\n",
      "22\n",
      "23\n",
      "25\n",
      "26\n",
      "28\n",
      "29\n",
      "31\n",
      "32\n",
      "34\n",
      "35\n",
      "37\n",
      "38\n",
      "40\n",
      "41\n",
      "43\n",
      "44\n",
      "46\n",
      "47\n",
      "49\n",
      "50\n",
      "end\n"
     ]
    }
   ],
   "source": [
    "for i in range(1,51):\n",
    "    if i%3==0:\n",
    "        continue\n",
    "    print(i)\n",
    "print('end')"
   ]
  },
  {
   "cell_type": "code",
   "execution_count": 66,
   "id": "6072527b-1a87-49bd-b66f-98c9bd742fe9",
   "metadata": {},
   "outputs": [
    {
     "name": "stdout",
     "output_type": "stream",
     "text": [
      "1\n",
      "2\n",
      "4\n",
      "7\n",
      "8\n",
      "11\n",
      "13\n",
      "14\n",
      "16\n",
      "17\n",
      "19\n",
      "22\n",
      "23\n",
      "26\n",
      "28\n",
      "29\n",
      "31\n",
      "32\n",
      "34\n",
      "37\n",
      "38\n",
      "41\n",
      "43\n",
      "44\n",
      "46\n",
      "47\n",
      "49\n"
     ]
    }
   ],
   "source": [
    "for i in range(1,51):\n",
    "    if i%3==0 or i%5==0:\n",
    "        continue\n",
    "    print(i)"
   ]
  },
  {
   "cell_type": "code",
   "execution_count": 70,
   "id": "2013ebef-c4db-4025-90fa-cf82b12895f3",
   "metadata": {},
   "outputs": [
    {
     "name": "stdout",
     "output_type": "stream",
     "text": [
      "1\n",
      "2\n",
      "3\n",
      "4\n",
      "5\n",
      "6\n",
      "7\n",
      "8\n",
      "9\n",
      "10\n",
      "11\n",
      "12\n",
      "13\n",
      "14\n",
      "16\n",
      "17\n",
      "18\n",
      "19\n",
      "20\n",
      "21\n",
      "22\n",
      "23\n",
      "24\n",
      "25\n",
      "26\n",
      "27\n",
      "28\n",
      "29\n",
      "31\n",
      "32\n",
      "33\n",
      "34\n",
      "35\n",
      "36\n",
      "37\n",
      "38\n",
      "39\n",
      "40\n",
      "41\n",
      "42\n",
      "43\n",
      "44\n",
      "46\n",
      "47\n",
      "48\n",
      "49\n",
      "end\n"
     ]
    }
   ],
   "source": [
    "for i in range(1,50):\n",
    "    if i%3==0 and i%5==0:\n",
    "        continue\n",
    "    print(i)\n",
    "print('end')    #values which is divisible by both 3 & 5 will not print"
   ]
  },
  {
   "cell_type": "code",
   "execution_count": 72,
   "id": "96977a62-7e20-4257-9398-f746e6b1fd08",
   "metadata": {},
   "outputs": [
    {
     "name": "stdout",
     "output_type": "stream",
     "text": [
      "1\n",
      "3\n",
      "5\n",
      "7\n",
      "9\n",
      "11\n",
      "13\n",
      "15\n",
      "17\n",
      "19\n",
      "21\n",
      "23\n",
      "25\n",
      "27\n",
      "29\n",
      "31\n",
      "33\n",
      "35\n",
      "37\n",
      "39\n",
      "41\n",
      "43\n",
      "45\n",
      "47\n",
      "49\n",
      "bye\n"
     ]
    }
   ],
   "source": [
    "for i in range(1,51):\n",
    "    if (i%2==0):     \n",
    "        continue       #only print odd numbers\n",
    "    else:\n",
    "        print(i)\n",
    "print('bye')    "
   ]
  },
  {
   "cell_type": "markdown",
   "id": "c749e725-dbd1-464a-9374-9af9cdd22c0c",
   "metadata": {},
   "source": [
    "# Patterns"
   ]
  },
  {
   "cell_type": "code",
   "execution_count": 75,
   "id": "a240fcfd-2bc2-4330-944f-199db13128ae",
   "metadata": {},
   "outputs": [
    {
     "name": "stdout",
     "output_type": "stream",
     "text": [
      "# # # #\n",
      "# # # #\n",
      "# # # #\n",
      "# # # #\n"
     ]
    }
   ],
   "source": [
    "print('# # # #')\n",
    "print('# # # #')\n",
    "print('# # # #')\n",
    "print('# # # #')"
   ]
  },
  {
   "cell_type": "code",
   "execution_count": 77,
   "id": "0f12c49a-542f-45ea-b9f6-aab1131d9299",
   "metadata": {},
   "outputs": [
    {
     "name": "stdout",
     "output_type": "stream",
     "text": [
      "# # # #\n",
      "# # # #\n",
      "# # # #\n",
      "# # # #\n"
     ]
    }
   ],
   "source": [
    "for i in range(1,5):\n",
    "    i=i+1\n",
    "    print('# # # #')"
   ]
  },
  {
   "cell_type": "code",
   "execution_count": 79,
   "id": "9cf4c2b3-4a17-494c-9606-1828ff6976c7",
   "metadata": {},
   "outputs": [
    {
     "name": "stdout",
     "output_type": "stream",
     "text": [
      "#\n",
      "#\n",
      "#\n",
      "#\n"
     ]
    }
   ],
   "source": [
    "for j in range(4):\n",
    "    print('#')"
   ]
  },
  {
   "cell_type": "code",
   "execution_count": 81,
   "id": "647d258f-4e25-40c5-9099-5eacab47db93",
   "metadata": {},
   "outputs": [
    {
     "name": "stdout",
     "output_type": "stream",
     "text": [
      "# # # #\n",
      "# # # #\n",
      "# # # #\n",
      "# # # #\n"
     ]
    }
   ],
   "source": [
    "for j in range(4):\n",
    "    print('# # # #')"
   ]
  },
  {
   "cell_type": "code",
   "execution_count": 83,
   "id": "d066638d-6c82-4e21-8772-c8af70e3b12b",
   "metadata": {},
   "outputs": [
    {
     "name": "stdout",
     "output_type": "stream",
     "text": [
      "# # # # "
     ]
    }
   ],
   "source": [
    "for j in range(4):\n",
    "    print('#',end=' ')"
   ]
  },
  {
   "cell_type": "code",
   "execution_count": 85,
   "id": "72cf8998-9eb2-4b8d-a9af-38077bbf9036",
   "metadata": {},
   "outputs": [
    {
     "name": "stdout",
     "output_type": "stream",
     "text": [
      "# # # # # # # # "
     ]
    }
   ],
   "source": [
    "for j in range(4):\n",
    "    print('#',end =' ')\n",
    "\n",
    "for j in range(4):\n",
    "    print('#',end =' ')"
   ]
  },
  {
   "cell_type": "code",
   "execution_count": 87,
   "id": "c49c0198-c35e-4c84-9640-82e35d0b3d56",
   "metadata": {},
   "outputs": [
    {
     "name": "stdout",
     "output_type": "stream",
     "text": [
      "# # # # \n",
      "# # # # "
     ]
    }
   ],
   "source": [
    "for j in range(4):\n",
    "    print('#',end=' ')\n",
    "print()\n",
    "\n",
    "for j in range(4):\n",
    "    print('#',end=' ')"
   ]
  },
  {
   "cell_type": "code",
   "execution_count": 89,
   "id": "441f0798-76c2-422d-aa13-b66fd9ce6d33",
   "metadata": {},
   "outputs": [
    {
     "name": "stdout",
     "output_type": "stream",
     "text": [
      "# # # # \n",
      "# # # # \n",
      "# # # # \n",
      "# # # # \n"
     ]
    }
   ],
   "source": [
    "for j in range(4):\n",
    "    print('#',end=' ')\n",
    "print()\n",
    "for j in range(4):\n",
    "    print('#',end=' ')\n",
    "print()\n",
    "for j in range(4):\n",
    "    print('#',end=' ')\n",
    "print()\n",
    "for j in range(4):\n",
    "    print('#',end=' ')\n",
    "print()"
   ]
  },
  {
   "cell_type": "code",
   "execution_count": 91,
   "id": "c9517ce6-93dd-48ad-a3f2-c47fca6d8641",
   "metadata": {},
   "outputs": [
    {
     "name": "stdout",
     "output_type": "stream",
     "text": [
      "# # # # \n",
      "# # # # \n",
      "# # # # \n",
      "# # # # \n"
     ]
    }
   ],
   "source": [
    "for i in range(4):\n",
    "    for j in range(4):\n",
    "        print('#',end =' ')\n",
    "    print()"
   ]
  },
  {
   "cell_type": "code",
   "execution_count": 93,
   "id": "07fd9f7d-1b21-4071-86b8-88f72d256d7b",
   "metadata": {},
   "outputs": [
    {
     "name": "stdout",
     "output_type": "stream",
     "text": [
      "# \n",
      "# # \n",
      "# # # \n",
      "# # # # \n"
     ]
    }
   ],
   "source": [
    "for i in range(4):\n",
    "    for j in range(i+1):\n",
    "        print('#',end=' ')\n",
    "    print()"
   ]
  },
  {
   "cell_type": "code",
   "execution_count": 97,
   "id": "e4fca53a-b8ef-40d9-a414-aadc84ddde3d",
   "metadata": {},
   "outputs": [
    {
     "name": "stdout",
     "output_type": "stream",
     "text": [
      "# \n",
      "# # \n",
      "# # # \n",
      "# # # # \n"
     ]
    }
   ],
   "source": [
    "for i in range(1,5):\n",
    "    print('# '*i)"
   ]
  },
  {
   "cell_type": "code",
   "execution_count": 101,
   "id": "50bd6868-bb55-465d-b13b-4e94155e417d",
   "metadata": {},
   "outputs": [
    {
     "name": "stdout",
     "output_type": "stream",
     "text": [
      "# \n",
      "# # \n",
      "# # # \n",
      "# # # # \n"
     ]
    }
   ],
   "source": [
    "for i in range(1,5):\n",
    "    for j in range(4):\n",
    "        if i>j:\n",
    "            print('#',end=' ')\n",
    "    print()"
   ]
  },
  {
   "cell_type": "code",
   "execution_count": 103,
   "id": "ae52f431-8525-4f1b-bc94-5af38db23129",
   "metadata": {},
   "outputs": [
    {
     "data": {
      "text/plain": [
       "[0, 1, 2, 3, 4]"
      ]
     },
     "execution_count": 103,
     "metadata": {},
     "output_type": "execute_result"
    }
   ],
   "source": [
    "list(range(5))"
   ]
  },
  {
   "cell_type": "code",
   "execution_count": 105,
   "id": "3335dc70-811a-4de2-9e27-4ce4b2ad83f6",
   "metadata": {},
   "outputs": [
    {
     "name": "stdout",
     "output_type": "stream",
     "text": [
      "\n",
      "# \n",
      "# # \n",
      "# # # \n"
     ]
    }
   ],
   "source": [
    "for i in range(4):\n",
    "    for j in range(i):\n",
    "        print('#',end=' ')\n",
    "    print()"
   ]
  },
  {
   "cell_type": "code",
   "execution_count": 107,
   "id": "993cab43-3c30-46e5-b2e0-fcf1c49245d9",
   "metadata": {},
   "outputs": [
    {
     "name": "stdout",
     "output_type": "stream",
     "text": [
      "# # # # \n",
      "# # # \n",
      "# # \n",
      "# \n"
     ]
    }
   ],
   "source": [
    "for i in range(4):\n",
    "    for j in range(4-i):\n",
    "        print('#',end=' ')\n",
    "    print()"
   ]
  },
  {
   "cell_type": "code",
   "execution_count": 109,
   "id": "7f074172-f24c-4061-8f33-b36791ebe971",
   "metadata": {},
   "outputs": [
    {
     "name": "stdout",
     "output_type": "stream",
     "text": [
      "# # # # \n",
      "# # # \n",
      "# # \n",
      "# \n"
     ]
    }
   ],
   "source": [
    "for i in range(1,5):\n",
    "    print('# '*(5-i))"
   ]
  },
  {
   "cell_type": "markdown",
   "id": "9ae0a318-a7f1-4281-bd50-43ac3b4d1b13",
   "metadata": {},
   "source": [
    "# for else"
   ]
  },
  {
   "cell_type": "code",
   "execution_count": null,
   "id": "94dfdbae-4b18-4b8a-8822-aa8812b4320d",
   "metadata": {},
   "outputs": [],
   "source": []
  },
  {
   "cell_type": "code",
   "execution_count": null,
   "id": "9bf6622a-f827-4ffa-b67e-77db143f58f4",
   "metadata": {},
   "outputs": [],
   "source": []
  },
  {
   "cell_type": "code",
   "execution_count": null,
   "id": "23f423e1-64f5-47cd-82fb-bc8dc3a4be0a",
   "metadata": {},
   "outputs": [],
   "source": []
  },
  {
   "cell_type": "code",
   "execution_count": null,
   "id": "88c99bb5-e80d-45d9-855d-680bee8f86e3",
   "metadata": {},
   "outputs": [],
   "source": []
  },
  {
   "cell_type": "code",
   "execution_count": null,
   "id": "a86827fd-2097-4498-a3e1-61a4b6c68682",
   "metadata": {},
   "outputs": [],
   "source": []
  },
  {
   "cell_type": "markdown",
   "id": "32d8f270-3fc7-4de7-9a44-13685e610001",
   "metadata": {},
   "source": [
    "# Task 50 que on conditional statement"
   ]
  },
  {
   "cell_type": "code",
   "execution_count": 68,
   "id": "d4778109-5fb4-4ac0-afda-94764385bbbc",
   "metadata": {},
   "outputs": [
    {
     "name": "stdout",
     "output_type": "stream",
     "text": [
      "Odd\n"
     ]
    }
   ],
   "source": [
    "# 1.check no is even or odd\n",
    "x=23\n",
    "if x%2==0:\n",
    "    print('Even')\n",
    "\n",
    "else:\n",
    "    print('Odd')"
   ]
  },
  {
   "cell_type": "code",
   "execution_count": 72,
   "id": "217e8a3e-295f-414a-ac16-1d26813ae817",
   "metadata": {},
   "outputs": [
    {
     "name": "stdout",
     "output_type": "stream",
     "text": [
      "Eligible for vote\n"
     ]
    }
   ],
   "source": [
    "# 2.check if a person is eligible for vote\n",
    "age=20\n",
    "if age>18:\n",
    "    print('Eligible for vote')\n",
    "\n",
    "else:\n",
    "    print('Not eligible for vote')"
   ]
  },
  {
   "cell_type": "code",
   "execution_count": 78,
   "id": "76b63b21-be46-4317-90c2-d6d0689c3f20",
   "metadata": {},
   "outputs": [
    {
     "name": "stdout",
     "output_type": "stream",
     "text": [
      "Not leap year\n"
     ]
    }
   ],
   "source": [
    "# 3.year is leap or not\n",
    "year=2003\n",
    "if year%4==0:\n",
    "    print('Leap year')\n",
    "\n",
    "else:\n",
    "    print('Not leap year')"
   ]
  },
  {
   "cell_type": "code",
   "execution_count": 86,
   "id": "44784b32-30fd-41af-9837-3f149f5d8ae5",
   "metadata": {},
   "outputs": [
    {
     "name": "stdout",
     "output_type": "stream",
     "text": [
      "Positive\n"
     ]
    }
   ],
   "source": [
    "# 4.Check no. is +ve,-ve,0\n",
    "no=5\n",
    "if no>0:\n",
    "    print('Positive')\n",
    "\n",
    "elif no<0:\n",
    "    print('Negative')\n",
    "\n",
    "else:\n",
    "    print('Zero')"
   ]
  },
  {
   "cell_type": "code",
   "execution_count": 90,
   "id": "0a7fb700-fcb0-4ced-b73f-24f94f30263d",
   "metadata": {},
   "outputs": [
    {
     "name": "stdout",
     "output_type": "stream",
     "text": [
      "n2 is greatest\n"
     ]
    }
   ],
   "source": [
    "# 5.program to find greatest of 2 nos\n",
    "n1=4\n",
    "n2=5\n",
    "\n",
    "if n1>n2:\n",
    "    print('n1 is greatest')\n",
    "else:\n",
    "    print('n2 is greatest')"
   ]
  },
  {
   "cell_type": "code",
   "execution_count": null,
   "id": "75ba03b2-fc35-4bdd-bf0f-1d3af0188823",
   "metadata": {},
   "outputs": [],
   "source": [
    "# 6.determine if no. is multiple of 5\n"
   ]
  },
  {
   "cell_type": "code",
   "execution_count": 100,
   "id": "567cf9b7-824f-48f2-9efb-76824b85f4e4",
   "metadata": {},
   "outputs": [
    {
     "ename": "TypeError",
     "evalue": "unsupported operand type(s) for |: 'str' and 'str'",
     "output_type": "error",
     "traceback": [
      "\u001b[1;31m---------------------------------------------------------------------------\u001b[0m",
      "\u001b[1;31mTypeError\u001b[0m                                 Traceback (most recent call last)",
      "Cell \u001b[1;32mIn[100], line 4\u001b[0m\n\u001b[0;32m      1\u001b[0m \u001b[38;5;66;03m# 7.check character is constant or vowel\u001b[39;00m\n\u001b[0;32m      2\u001b[0m ch\u001b[38;5;241m=\u001b[39m\u001b[38;5;124m'\u001b[39m\u001b[38;5;124me\u001b[39m\u001b[38;5;124m'\u001b[39m\n\u001b[1;32m----> 4\u001b[0m \u001b[38;5;28;01mif\u001b[39;00m ch\u001b[38;5;241m==\u001b[39m\u001b[38;5;124m'\u001b[39m\u001b[38;5;124ma\u001b[39m\u001b[38;5;124m'\u001b[39m\u001b[38;5;241m|\u001b[39m ch\u001b[38;5;241m==\u001b[39m\u001b[38;5;124m'\u001b[39m\u001b[38;5;124me\u001b[39m\u001b[38;5;124m'\u001b[39m\u001b[38;5;241m|\u001b[39m ch\u001b[38;5;241m==\u001b[39m\u001b[38;5;124m'\u001b[39m\u001b[38;5;124mi\u001b[39m\u001b[38;5;124m'\u001b[39m\u001b[38;5;241m|\u001b[39mch\u001b[38;5;241m==\u001b[39m\u001b[38;5;124m'\u001b[39m\u001b[38;5;124mo\u001b[39m\u001b[38;5;124m'\u001b[39m\u001b[38;5;241m|\u001b[39m ch\u001b[38;5;241m==\u001b[39m\u001b[38;5;124m'\u001b[39m\u001b[38;5;124mu\u001b[39m\u001b[38;5;124m'\u001b[39m:\n\u001b[0;32m      5\u001b[0m     \u001b[38;5;28mprint\u001b[39m(\u001b[38;5;124m'\u001b[39m\u001b[38;5;124mvowel\u001b[39m\u001b[38;5;124m'\u001b[39m)\n\u001b[0;32m      7\u001b[0m \u001b[38;5;28;01melse\u001b[39;00m:\n",
      "\u001b[1;31mTypeError\u001b[0m: unsupported operand type(s) for |: 'str' and 'str'"
     ]
    }
   ],
   "source": [
    "# 7.check character is constant or vowel\n",
    "ch='e'\n",
    "\n",
    "if ch=='a'| ch=='e'| ch=='i'|ch=='o'| ch=='u':\n",
    "    print('vowel')\n",
    "\n",
    "else:\n",
    "    print('constant')"
   ]
  },
  {
   "cell_type": "code",
   "execution_count": 102,
   "id": "8b4c0091-b2d4-413d-b3e2-f516588c430e",
   "metadata": {},
   "outputs": [
    {
     "name": "stdout",
     "output_type": "stream",
     "text": [
      "Eligible for senior citizen discount\n"
     ]
    }
   ],
   "source": [
    "# 8.determine if person is eligible for senior citizen discount(age=60+)\n",
    "age=61\n",
    "\n",
    "if age>=60:\n",
    "    print('Eligible for senior citizen discount')\n",
    "\n",
    "else:\n",
    "    print('Not Eligible for senior citizen discount')\n"
   ]
  },
  {
   "cell_type": "code",
   "execution_count": null,
   "id": "63ee7603-d99d-443f-b7f1-990105f6da47",
   "metadata": {},
   "outputs": [],
   "source": [
    "#9.check if no is single-digit no.\n"
   ]
  },
  {
   "cell_type": "code",
   "execution_count": null,
   "id": "2449fe73-a292-4a2e-b941-5813b617884a",
   "metadata": {},
   "outputs": [],
   "source": [
    "#10.print 'good morning' if time is before 12pm otherwise print 'good afternoon'\n",
    "time =1pm\n",
    "\n",
    "if time"
   ]
  },
  {
   "cell_type": "code",
   "execution_count": 110,
   "id": "ef967ed3-2927-4ced-a7a7-f92221c43e13",
   "metadata": {},
   "outputs": [
    {
     "name": "stdout",
     "output_type": "stream",
     "text": [
      "Not empty\n"
     ]
    }
   ],
   "source": [
    "#11.check if string is empty or not\n",
    "str='abc'\n",
    "\n",
    "if str=='':\n",
    "    print('Empty string')\n",
    "else:\n",
    "    print('Not empty')\n"
   ]
  },
  {
   "cell_type": "code",
   "execution_count": null,
   "id": "a70fefce-a1a0-4157-a4f6-cee998db03b8",
   "metadata": {},
   "outputs": [],
   "source": [
    "#12.verify a no is perfect square\n"
   ]
  },
  {
   "cell_type": "code",
   "execution_count": 120,
   "id": "0cc873ee-49ce-4285-a843-678354fe05dd",
   "metadata": {},
   "outputs": [
    {
     "name": "stdout",
     "output_type": "stream",
     "text": [
      "No is between 1 to 100\n"
     ]
    }
   ],
   "source": [
    "#13.determine no is between 1 to 100\n",
    "no=67\n",
    "\n",
    "if no>=1 & no<=100:\n",
    "    print('No is between 1 to 100')\n",
    "\n",
    "else:\n",
    "    print('No is not in between 1 to 100')"
   ]
  },
  {
   "cell_type": "code",
   "execution_count": 126,
   "id": "7e990309-bd93-43c2-8f72-db965ad7040c",
   "metadata": {},
   "outputs": [
    {
     "ename": "TypeError",
     "evalue": "unsupported operand type(s) for |: 'str' and 'str'",
     "output_type": "error",
     "traceback": [
      "\u001b[1;31m---------------------------------------------------------------------------\u001b[0m",
      "\u001b[1;31mTypeError\u001b[0m                                 Traceback (most recent call last)",
      "Cell \u001b[1;32mIn[126], line 4\u001b[0m\n\u001b[0;32m      1\u001b[0m \u001b[38;5;66;03m#14.print 'weekend' if day is saturday or sunday; otherwise print 'weekday'\u001b[39;00m\n\u001b[0;32m      2\u001b[0m day\u001b[38;5;241m=\u001b[39m\u001b[38;5;124m'\u001b[39m\u001b[38;5;124msunday\u001b[39m\u001b[38;5;124m'\u001b[39m\n\u001b[1;32m----> 4\u001b[0m \u001b[38;5;28;01mif\u001b[39;00m day\u001b[38;5;241m==\u001b[39m\u001b[38;5;124m'\u001b[39m\u001b[38;5;124msunday\u001b[39m\u001b[38;5;124m'\u001b[39m \u001b[38;5;241m|\u001b[39m \u001b[38;5;124m'\u001b[39m\u001b[38;5;124msaturday\u001b[39m\u001b[38;5;124m'\u001b[39m:\n\u001b[0;32m      5\u001b[0m     \u001b[38;5;28mprint\u001b[39m(\u001b[38;5;124m'\u001b[39m\u001b[38;5;124mWeekend\u001b[39m\u001b[38;5;124m'\u001b[39m)\n\u001b[0;32m      7\u001b[0m \u001b[38;5;28;01melse\u001b[39;00m:\n",
      "\u001b[1;31mTypeError\u001b[0m: unsupported operand type(s) for |: 'str' and 'str'"
     ]
    }
   ],
   "source": [
    "#14.print 'weekend' if day is saturday or sunday; otherwise print 'weekday'\n",
    "day='sunday'\n",
    "\n",
    "if day=='sunday' | 'saturday':\n",
    "    print('Weekend')\n",
    "\n",
    "else:\n",
    "    print('Weekday')"
   ]
  },
  {
   "cell_type": "code",
   "execution_count": 128,
   "id": "08ae1f44-21af-4c6b-af41-257377b04cec",
   "metadata": {},
   "outputs": [
    {
     "name": "stdout",
     "output_type": "stream",
     "text": [
      "No is divisible by 3 & 7\n"
     ]
    }
   ],
   "source": [
    "#15.Find if given no is exactly divisible by both 3 & 7\n",
    "no=45\n",
    "\n",
    "if no%3==0 & no%7==0:\n",
    "    print('No is divisible by 3 & 7')\n",
    "\n",
    "else:\n",
    "    print('No is not divisible by 3 or 7')"
   ]
  },
  {
   "cell_type": "code",
   "execution_count": 136,
   "id": "e36f3489-25fe-4546-9b15-d53b8d1fad70",
   "metadata": {},
   "outputs": [
    {
     "name": "stdout",
     "output_type": "stream",
     "text": [
      "sum is greater than 100\n"
     ]
    }
   ],
   "source": [
    "#16.check if sum of 2 nos. is greater than 100\n",
    "num1=54\n",
    "num2=94\n",
    "\n",
    "if num1+num2>=100:\n",
    "    print('sum is greater than 100')\n",
    "\n",
    "else:\n",
    "     print('sum is less than 100')"
   ]
  },
  {
   "cell_type": "code",
   "execution_count": 138,
   "id": "6edaf775-6011-4df5-af97-d4a2bc104bf9",
   "metadata": {},
   "outputs": [
    {
     "name": "stdout",
     "output_type": "stream",
     "text": [
      "num1 is min\n"
     ]
    }
   ],
   "source": [
    "#17.program to find minimum of 2 nos\n",
    "num1=2\n",
    "num2=3\n",
    "\n",
    "if num1>num2:\n",
    "    print('num2 is min')\n",
    "\n",
    "else:\n",
    "    print('num1 is min')"
   ]
  },
  {
   "cell_type": "code",
   "execution_count": 144,
   "id": "afebe6c0-9b8f-4160-81b8-d2ec0fcfbec4",
   "metadata": {},
   "outputs": [
    {
     "name": "stdout",
     "output_type": "stream",
     "text": [
      "no is not divisible by 2 or 3\n"
     ]
    }
   ],
   "source": [
    "# #18.check if no is divisible by 2 but not by 3\n",
    "# no=2\n",
    "# if no%2==0 & no%3!=0:\n",
    "#     print('no is divisible by 2 but not by 3')\n",
    "\n",
    "# else:\n",
    "#     print('no is not divisible by 2 or 3')\n",
    "    \n",
    "    "
   ]
  },
  {
   "cell_type": "code",
   "execution_count": null,
   "id": "f589cae3-d5be-46ae-b982-206d6433cf91",
   "metadata": {},
   "outputs": [],
   "source": [
    "#19.check alphabet is uppercase or lowercase\n"
   ]
  },
  {
   "cell_type": "code",
   "execution_count": null,
   "id": "0f273bb8-f520-4c83-b111-73acfdf400d3",
   "metadata": {},
   "outputs": [],
   "source": [
    "#20.check if triangle is valid given 3 sides length\n",
    "side1="
   ]
  },
  {
   "cell_type": "code",
   "execution_count": 150,
   "id": "6230dc09-ddac-45d6-ab9e-57f1edbcde52",
   "metadata": {},
   "outputs": [
    {
     "name": "stdout",
     "output_type": "stream",
     "text": [
      "5 is largest no\n"
     ]
    }
   ],
   "source": [
    "#21. find largest of three nos\n",
    "\n",
    "a=3\n",
    "b=4\n",
    "c=5\n",
    "if a>b & a>c:\n",
    "    print(a,'is largest no')\n",
    "\n",
    "elif b>a & b>c:\n",
    "    print(b,'is largest no')\n",
    "\n",
    "else:\n",
    "    print(c,'is largest no')"
   ]
  },
  {
   "cell_type": "code",
   "execution_count": null,
   "id": "e0045feb-41eb-4d7c-b0a8-405bad98b9ce",
   "metadata": {},
   "outputs": [],
   "source": [
    "#22.Determine if a number is a prime number\n",
    "\n"
   ]
  },
  {
   "cell_type": "code",
   "execution_count": 162,
   "id": "78a2430a-4ce4-443b-aa3b-8ec1a974907d",
   "metadata": {},
   "outputs": [
    {
     "ename": "TypeError",
     "evalue": "unsupported operand type(s) for &: 'int' and 'str'",
     "output_type": "error",
     "traceback": [
      "\u001b[1;31m---------------------------------------------------------------------------\u001b[0m",
      "\u001b[1;31mTypeError\u001b[0m                                 Traceback (most recent call last)",
      "Cell \u001b[1;32mIn[162], line 6\u001b[0m\n\u001b[0;32m      3\u001b[0m age\u001b[38;5;241m=\u001b[39m\u001b[38;5;241m20\u001b[39m\n\u001b[0;32m      4\u001b[0m test\u001b[38;5;241m=\u001b[39m\u001b[38;5;124m'\u001b[39m\u001b[38;5;124mpass\u001b[39m\u001b[38;5;124m'\u001b[39m\n\u001b[1;32m----> 6\u001b[0m \u001b[38;5;28;01mif\u001b[39;00m age\u001b[38;5;241m>\u001b[39m\u001b[38;5;241m18\u001b[39m \u001b[38;5;241m&\u001b[39m test\u001b[38;5;241m==\u001b[39m\u001b[38;5;124m'\u001b[39m\u001b[38;5;124mpass\u001b[39m\u001b[38;5;124m'\u001b[39m:\n\u001b[0;32m      7\u001b[0m     \u001b[38;5;28mprint\u001b[39m(\u001b[38;5;124m'\u001b[39m\u001b[38;5;124mEligible for driving license\u001b[39m\u001b[38;5;124m'\u001b[39m)\n\u001b[0;32m      9\u001b[0m \u001b[38;5;28;01melse\u001b[39;00m:\n",
      "\u001b[1;31mTypeError\u001b[0m: unsupported operand type(s) for &: 'int' and 'str'"
     ]
    }
   ],
   "source": [
    "#23.Check if person is eligible for driving license(age 18+, passed driving test).\n",
    "\n",
    "age=20\n",
    "test='pass'\n",
    "\n",
    "if age>18 & test=='pass':\n",
    "    print('Eligible for driving license')\n",
    "\n",
    "else:\n",
    "    print('Not eligible for driving license')"
   ]
  },
  {
   "cell_type": "code",
   "execution_count": null,
   "id": "43aff579-f8d6-4f7f-be29-e9ed0427ab43",
   "metadata": {},
   "outputs": [],
   "source": [
    "#24.determine whether a triangle is equilateral, isosceles, or scalene.\n",
    "\n",
    "side1=4\n",
    "side2=5\n",
    "side3=4\n",
    "\n",
    "if side1==side2==side3:\n",
    "    print('Equilateral triangle')\n",
    "\n",
    "if side1==side2 & side1!=side3 "
   ]
  },
  {
   "cell_type": "code",
   "execution_count": 164,
   "id": "92ce0a27-c4fa-46f2-b59d-d12c11bbfae9",
   "metadata": {},
   "outputs": [
    {
     "name": "stdout",
     "output_type": "stream",
     "text": [
      "Pass\n"
     ]
    }
   ],
   "source": [
    "#25.Determine if student passes or fails based on a passing mark of 40\n",
    "\n",
    "marks=80\n",
    "\n",
    "if marks>=40:\n",
    "    print('Pass')\n",
    "\n",
    "else:\n",
    "    print('Fail')"
   ]
  },
  {
   "cell_type": "code",
   "execution_count": null,
   "id": "1c14b673-05d6-411b-b644-6d2665db2df7",
   "metadata": {},
   "outputs": [],
   "source": [
    "#26.Check if a number is a palindrome (same forward and backward).\n",
    "\n",
    "no=454\n"
   ]
  },
  {
   "cell_type": "code",
   "execution_count": 168,
   "id": "7f9c34bf-7d92-403b-a89a-fd6574c7a5ca",
   "metadata": {},
   "outputs": [
    {
     "name": "stdout",
     "output_type": "stream",
     "text": [
      "1200\n"
     ]
    }
   ],
   "source": [
    "# #27.Calculate the electricity bill based on consumption: ₹5 per unit for the first 100 units, ₹10 per unit for the next 200, ₹15 per unit for anything above 300 units.\n",
    "# units=120\n",
    "\n",
    "# if units<100:\n",
    "#     print(units*5)\n",
    "\n",
    "# elif units>=100 & units<200:\n",
    "#     print(units*10)\n",
    "\n",
    "# elif units>=200:\n",
    "#     print(units*15)"
   ]
  },
  {
   "cell_type": "code",
   "execution_count": 185,
   "id": "b01e7c23-a9de-435d-8d73-d1a0c1ba281a",
   "metadata": {},
   "outputs": [
    {
     "name": "stdout",
     "output_type": "stream",
     "text": [
      "A grade\n"
     ]
    }
   ],
   "source": [
    "# #28.Find the grade of a student based on marks \n",
    "\n",
    "# marks=1\n",
    "\n",
    "# if marks>=90 & marks<100:\n",
    "#     print('A grade')\n",
    "\n",
    "# elif marks>=80 & marks<=89:\n",
    "#     print('B+ grade')\n",
    "\n",
    "# elif marks>=70 & marks<=79:\n",
    "#     print('B grade')\n",
    "\n",
    "# elif marks>=60 & marks<=69:\n",
    "#     print('C+ grade')\n",
    "\n",
    "# elif marks>=50 & marks<=59:\n",
    "#     print('C grade')\n",
    "\n",
    "# else:\n",
    "#     print('Fail')"
   ]
  },
  {
   "cell_type": "code",
   "execution_count": null,
   "id": "6b71cf5c-6cb4-4224-8419-56057196b424",
   "metadata": {},
   "outputs": [],
   "source": [
    "#29. Determine if a given date is valid (considering month length and leap year for February).\n",
    "\n",
    "\n"
   ]
  },
  {
   "cell_type": "code",
   "execution_count": 193,
   "id": "1fc0c05b-9249-4218-a9a8-04d1a84cf503",
   "metadata": {},
   "outputs": [
    {
     "name": "stdout",
     "output_type": "stream",
     "text": [
      "AM\n"
     ]
    }
   ],
   "source": [
    "# #30. Check if a given time is AM or PM.\n",
    "# Time=13\n",
    "\n",
    "# if Time>=1 & Time<=12:\n",
    "#     print('AM')\n",
    "\n",
    "# else:\n",
    "#     print('PM')"
   ]
  },
  {
   "cell_type": "code",
   "execution_count": null,
   "id": "201d7c44-2d3c-4803-8fc5-b8419413b167",
   "metadata": {},
   "outputs": [],
   "source": [
    "#31.Check if a number is an Armstrong number (sum of its digits raised to the power of the number of digits equals the number).\n",
    "\n"
   ]
  },
  {
   "cell_type": "code",
   "execution_count": null,
   "id": "95f926ed-806b-481a-aa87-48d7484335f7",
   "metadata": {},
   "outputs": [],
   "source": [
    "#32.Determine the type of quadrilateral based on given angles and sides.\n"
   ]
  },
  {
   "cell_type": "code",
   "execution_count": null,
   "id": "fc30e9be-8d59-47d6-af9e-6cde7ec2e0ba",
   "metadata": {},
   "outputs": [],
   "source": [
    "#33.Implement a basic calculator that takes two numbers and an operation (+, -, *, /).\n"
   ]
  },
  {
   "cell_type": "code",
   "execution_count": 195,
   "id": "9f24b877-cc8f-4872-92dd-d8c86c8bf760",
   "metadata": {},
   "outputs": [
    {
     "name": "stdout",
     "output_type": "stream",
     "text": [
      "Balance is sufficient for withdrawl\n"
     ]
    }
   ],
   "source": [
    "#34. Check if a bank account balance is sufficient for withdrawal.\n",
    "\n",
    "balance=6000\n",
    "\n",
    "if balance>5000:\n",
    "    print('Balance is sufficient for withdrawl')\n",
    "\n",
    "else:\n",
    "     print('Balance is insufficient for withdrawl')"
   ]
  },
  {
   "cell_type": "code",
   "execution_count": null,
   "id": "7396be59-5bac-4c1d-8a95-21ddd28652b3",
   "metadata": {},
   "outputs": [],
   "source": [
    "#35. Implement a simple temperature converter (Celsius to Fahrenheit and vice versa).\n"
   ]
  },
  {
   "cell_type": "code",
   "execution_count": 5,
   "id": "c83e47ef-6330-47ac-b2c2-d6c4cabd19cf",
   "metadata": {},
   "outputs": [
    {
     "name": "stdout",
     "output_type": "stream",
     "text": [
      "No. lies in between 50 to 100\n"
     ]
    }
   ],
   "source": [
    "#36.program to check if number lies within a specific range (e.g., between 50 and 100).\n",
    "\n",
    "no=88\n",
    "\n",
    "if no>=50 and no<=100:\n",
    "    print('No. lies in between 50 to 100')\n",
    "\n",
    "else:\n",
    "     print('No. not lies in between 50 to 100')"
   ]
  },
  {
   "cell_type": "code",
   "execution_count": null,
   "id": "91e7bdc8-ff2b-4b48-b730-a4245816eb9a",
   "metadata": {},
   "outputs": [],
   "source": [
    "#37. Determine if a given year is a century year (ends in 00).\n"
   ]
  },
  {
   "cell_type": "code",
   "execution_count": null,
   "id": "036df910-0524-43b9-8571-14e006576a6c",
   "metadata": {},
   "outputs": [],
   "source": [
    "#38. Check if a given integer is a power of 2."
   ]
  },
  {
   "cell_type": "code",
   "execution_count": null,
   "id": "8eda001d-f818-449f-a67b-5395b14b2414",
   "metadata": {},
   "outputs": [],
   "source": [
    "#39. Determine whether a given month has 31, 30, or 28 days."
   ]
  },
  {
   "cell_type": "code",
   "execution_count": null,
   "id": "80706c6e-aca9-452d-b30f-13647cc8e16c",
   "metadata": {},
   "outputs": [],
   "source": [
    "#40. Validate a password (must be at least 8 characters long and contain both numbers and letters\n"
   ]
  }
 ],
 "metadata": {
  "kernelspec": {
   "display_name": "Python 3 (ipykernel)",
   "language": "python",
   "name": "python3"
  },
  "language_info": {
   "codemirror_mode": {
    "name": "ipython",
    "version": 3
   },
   "file_extension": ".py",
   "mimetype": "text/x-python",
   "name": "python",
   "nbconvert_exporter": "python",
   "pygments_lexer": "ipython3",
   "version": "3.12.4"
  }
 },
 "nbformat": 4,
 "nbformat_minor": 5
}
